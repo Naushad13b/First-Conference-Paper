{
 "cells": [
  {
   "cell_type": "code",
   "execution_count": 3,
   "id": "e99317d0",
   "metadata": {},
   "outputs": [],
   "source": [
    "import pandas as pd\n",
    "import numpy as np\n",
    "import matplotlib.pyplot as plt\n",
    "import matplotlib.pyplot as plt"
   ]
  },
  {
   "cell_type": "code",
   "execution_count": 4,
   "id": "0a2ab4ae",
   "metadata": {},
   "outputs": [
    {
     "data": {
      "text/html": [
       "<div>\n",
       "<style scoped>\n",
       "    .dataframe tbody tr th:only-of-type {\n",
       "        vertical-align: middle;\n",
       "    }\n",
       "\n",
       "    .dataframe tbody tr th {\n",
       "        vertical-align: top;\n",
       "    }\n",
       "\n",
       "    .dataframe thead th {\n",
       "        text-align: right;\n",
       "    }\n",
       "</style>\n",
       "<table border=\"1\" class=\"dataframe\">\n",
       "  <thead>\n",
       "    <tr style=\"text-align: right;\">\n",
       "      <th></th>\n",
       "      <th>pm25</th>\n",
       "      <th>pm10</th>\n",
       "      <th>no2</th>\n",
       "      <th>so2</th>\n",
       "      <th>co</th>\n",
       "      <th>o3</th>\n",
       "    </tr>\n",
       "    <tr>\n",
       "      <th>Date</th>\n",
       "      <th></th>\n",
       "      <th></th>\n",
       "      <th></th>\n",
       "      <th></th>\n",
       "      <th></th>\n",
       "      <th></th>\n",
       "    </tr>\n",
       "  </thead>\n",
       "  <tbody>\n",
       "    <tr>\n",
       "      <th>2017-10-17 10:00:00</th>\n",
       "      <td>110.75</td>\n",
       "      <td>234.67</td>\n",
       "      <td>82.22</td>\n",
       "      <td>101.55</td>\n",
       "      <td>1.06</td>\n",
       "      <td>27.12</td>\n",
       "    </tr>\n",
       "    <tr>\n",
       "      <th>2017-10-17 11:00:00</th>\n",
       "      <td>165.34</td>\n",
       "      <td>536.91</td>\n",
       "      <td>49.09</td>\n",
       "      <td>130.76</td>\n",
       "      <td>0.98</td>\n",
       "      <td>87.85</td>\n",
       "    </tr>\n",
       "    <tr>\n",
       "      <th>2017-10-17 12:00:00</th>\n",
       "      <td>130.91</td>\n",
       "      <td>555.58</td>\n",
       "      <td>43.34</td>\n",
       "      <td>129.64</td>\n",
       "      <td>0.53</td>\n",
       "      <td>79.69</td>\n",
       "    </tr>\n",
       "    <tr>\n",
       "      <th>2017-10-17 13:00:00</th>\n",
       "      <td>126.39</td>\n",
       "      <td>556.05</td>\n",
       "      <td>32.97</td>\n",
       "      <td>103.30</td>\n",
       "      <td>0.40</td>\n",
       "      <td>78.19</td>\n",
       "    </tr>\n",
       "    <tr>\n",
       "      <th>2017-10-17 14:00:00</th>\n",
       "      <td>131.90</td>\n",
       "      <td>504.41</td>\n",
       "      <td>42.27</td>\n",
       "      <td>94.55</td>\n",
       "      <td>0.17</td>\n",
       "      <td>72.72</td>\n",
       "    </tr>\n",
       "  </tbody>\n",
       "</table>\n",
       "</div>"
      ],
      "text/plain": [
       "                       pm25    pm10    no2     so2    co     o3\n",
       "Date                                                           \n",
       "2017-10-17 10:00:00  110.75  234.67  82.22  101.55  1.06  27.12\n",
       "2017-10-17 11:00:00  165.34  536.91  49.09  130.76  0.98  87.85\n",
       "2017-10-17 12:00:00  130.91  555.58  43.34  129.64  0.53  79.69\n",
       "2017-10-17 13:00:00  126.39  556.05  32.97  103.30  0.40  78.19\n",
       "2017-10-17 14:00:00  131.90  504.41  42.27   94.55  0.17  72.72"
      ]
     },
     "execution_count": 4,
     "metadata": {},
     "output_type": "execute_result"
    }
   ],
   "source": [
    "# Import data using datetime and set index to datetime\n",
    "df = pd.read_csv(r'D:\\aa\\working_results\\Book3.CSV',\n",
    "                                parse_dates=['Date'],\n",
    "                                index_col=['Date'])\n",
    "\n",
    "df.head()"
   ]
  },
  {
   "cell_type": "code",
   "execution_count": 5,
   "id": "5a2d0875",
   "metadata": {},
   "outputs": [
    {
     "data": {
      "text/html": [
       "<div>\n",
       "<style scoped>\n",
       "    .dataframe tbody tr th:only-of-type {\n",
       "        vertical-align: middle;\n",
       "    }\n",
       "\n",
       "    .dataframe tbody tr th {\n",
       "        vertical-align: top;\n",
       "    }\n",
       "\n",
       "    .dataframe thead th {\n",
       "        text-align: right;\n",
       "    }\n",
       "</style>\n",
       "<table border=\"1\" class=\"dataframe\">\n",
       "  <thead>\n",
       "    <tr style=\"text-align: right;\">\n",
       "      <th></th>\n",
       "      <th>pm25</th>\n",
       "      <th>pm10</th>\n",
       "      <th>no2</th>\n",
       "      <th>so2</th>\n",
       "      <th>co</th>\n",
       "      <th>o3</th>\n",
       "    </tr>\n",
       "    <tr>\n",
       "      <th>Date</th>\n",
       "      <th></th>\n",
       "      <th></th>\n",
       "      <th></th>\n",
       "      <th></th>\n",
       "      <th></th>\n",
       "      <th></th>\n",
       "    </tr>\n",
       "  </thead>\n",
       "  <tbody>\n",
       "    <tr>\n",
       "      <th>2022-12-16 08:00:00</th>\n",
       "      <td>51.14</td>\n",
       "      <td>207.80</td>\n",
       "      <td>63.70</td>\n",
       "      <td>11.43</td>\n",
       "      <td>1.00</td>\n",
       "      <td>7.86</td>\n",
       "    </tr>\n",
       "    <tr>\n",
       "      <th>2022-12-16 09:00:00</th>\n",
       "      <td>75.18</td>\n",
       "      <td>241.10</td>\n",
       "      <td>83.39</td>\n",
       "      <td>13.30</td>\n",
       "      <td>1.06</td>\n",
       "      <td>26.08</td>\n",
       "    </tr>\n",
       "    <tr>\n",
       "      <th>2022-12-16 10:00:00</th>\n",
       "      <td>62.42</td>\n",
       "      <td>219.90</td>\n",
       "      <td>64.22</td>\n",
       "      <td>14.29</td>\n",
       "      <td>0.88</td>\n",
       "      <td>43.84</td>\n",
       "    </tr>\n",
       "    <tr>\n",
       "      <th>2022-12-16 11:00:00</th>\n",
       "      <td>54.10</td>\n",
       "      <td>173.33</td>\n",
       "      <td>53.70</td>\n",
       "      <td>12.77</td>\n",
       "      <td>0.80</td>\n",
       "      <td>56.66</td>\n",
       "    </tr>\n",
       "    <tr>\n",
       "      <th>2022-12-16 12:00:00</th>\n",
       "      <td>33.23</td>\n",
       "      <td>133.40</td>\n",
       "      <td>51.72</td>\n",
       "      <td>30.68</td>\n",
       "      <td>0.89</td>\n",
       "      <td>37.06</td>\n",
       "    </tr>\n",
       "  </tbody>\n",
       "</table>\n",
       "</div>"
      ],
      "text/plain": [
       "                      pm25    pm10    no2    so2    co     o3\n",
       "Date                                                         \n",
       "2022-12-16 08:00:00  51.14  207.80  63.70  11.43  1.00   7.86\n",
       "2022-12-16 09:00:00  75.18  241.10  83.39  13.30  1.06  26.08\n",
       "2022-12-16 10:00:00  62.42  219.90  64.22  14.29  0.88  43.84\n",
       "2022-12-16 11:00:00  54.10  173.33  53.70  12.77  0.80  56.66\n",
       "2022-12-16 12:00:00  33.23  133.40  51.72  30.68  0.89  37.06"
      ]
     },
     "execution_count": 5,
     "metadata": {},
     "output_type": "execute_result"
    }
   ],
   "source": [
    "df.tail()"
   ]
  },
  {
   "cell_type": "code",
   "execution_count": 6,
   "id": "446dc50a",
   "metadata": {},
   "outputs": [
    {
     "data": {
      "text/plain": [
       "<AxesSubplot:>"
      ]
     },
     "execution_count": 6,
     "metadata": {},
     "output_type": "execute_result"
    },
    {
     "data": {
      "image/png": "[encoded data removed]",
      "text/plain": [
       "<Figure size 432x288 with 1 Axes>"
      ]
     },
     "metadata": {
      "needs_background": "light"
     },
     "output_type": "display_data"
    }
   ],
   "source": [
    "#Box plot\n",
    "#pd.options.display.mpl_style = False\n",
    "df.boxplot()"
   ]
  },
  {
   "cell_type": "code",
   "execution_count": 7,
   "id": "2a4c8fe1",
   "metadata": {},
   "outputs": [
    {
     "data": {
      "text/plain": [
       "['pm25', 'pm10', 'no2', 'so2', 'co', 'o3']"
      ]
     },
     "execution_count": 7,
     "metadata": {},
     "output_type": "execute_result"
    }
   ],
   "source": [
    "dataset_columns = df.columns.tolist()\n",
    "dataset_columns"
   ]
  },
  {
   "cell_type": "code",
   "execution_count": 8,
   "id": "d203374b",
   "metadata": {},
   "outputs": [
    {
     "data": {
      "image/png": "[encoded data removed]",
      "text/plain": [
       "<Figure size 288x288 with 2 Axes>"
      ]
     },
     "metadata": {
      "needs_background": "light"
     },
     "output_type": "display_data"
    }
   ],
   "source": [
    "#Analysing relationship between different features\n",
    "# cor_cols = ['pollution', 'wnd_spd', 'rain', 'snow', 'temp']\n",
    "cor_cols = dataset_columns\n",
    "plt.matshow(df.corr())\n",
    "plt.xticks(range(len(cor_cols)), cor_cols)\n",
    "plt.yticks(range(len(cor_cols)), cor_cols)\n",
    "plt.colorbar()\n",
    "plt.show()"
   ]
  },
  {
   "cell_type": "code",
   "execution_count": 9,
   "id": "9c19fa7d",
   "metadata": {},
   "outputs": [
    {
     "ename": "IndexError",
     "evalue": "index 11 is out of bounds for axis 1 with size 6",
     "output_type": "error",
     "traceback": [
      "\u001b[1;31m---------------------------------------------------------------------------\u001b[0m",
      "\u001b[1;31mIndexError\u001b[0m                                Traceback (most recent call last)",
      "Input \u001b[1;32mIn [9]\u001b[0m, in \u001b[0;36m<cell line: 6>\u001b[1;34m()\u001b[0m\n\u001b[0;32m      4\u001b[0m values \u001b[38;5;241m=\u001b[39m df\u001b[38;5;241m.\u001b[39mvalues\n\u001b[0;32m      5\u001b[0m encoder \u001b[38;5;241m=\u001b[39m LabelEncoder()\n\u001b[1;32m----> 6\u001b[0m values[:,\u001b[38;5;241m11\u001b[39m] \u001b[38;5;241m=\u001b[39m encoder\u001b[38;5;241m.\u001b[39mfit_transform(\u001b[43mvalues\u001b[49m\u001b[43m[\u001b[49m\u001b[43m:\u001b[49m\u001b[43m,\u001b[49m\u001b[38;5;241;43m11\u001b[39;49m\u001b[43m]\u001b[49m)\n\u001b[0;32m      7\u001b[0m values \u001b[38;5;241m=\u001b[39m values\u001b[38;5;241m.\u001b[39mastype(\u001b[38;5;124m'\u001b[39m\u001b[38;5;124mfloat32\u001b[39m\u001b[38;5;124m'\u001b[39m)\n\u001b[0;32m      8\u001b[0m values[:\u001b[38;5;241m11\u001b[39m]\n",
      "\u001b[1;31mIndexError\u001b[0m: index 11 is out of bounds for axis 1 with size 6"
     ]
    }
   ],
   "source": [
    "from sklearn.preprocessing import LabelEncoder\n",
    "\n",
    "# Encode non categorical values\n",
    "values = df.values\n",
    "encoder = LabelEncoder()\n",
    "values[:,11] = encoder.fit_transform(values[:,11])\n",
    "values = values.astype('float32')\n",
    "values[:11]"
   ]
  },
  {
   "cell_type": "code",
   "execution_count": 10,
   "id": "6f353762",
   "metadata": {},
   "outputs": [],
   "source": [
    "#Normalising data\n",
    "from sklearn.preprocessing import MinMaxScaler\n",
    "\n",
    "scaler = MinMaxScaler(feature_range=(0, 1))\n",
    "scaled_dataset = scaler.fit_transform(values)"
   ]
  },
  {
   "cell_type": "code",
   "execution_count": 11,
   "id": "729006b8",
   "metadata": {},
   "outputs": [],
   "source": [
    "#Creating a window for previous data\n",
    "def to_supervised(train):\n",
    "  window_size = 4\n",
    "  X = []\n",
    "  Y = []\n",
    "  for i in range(window_size, len(train)):\n",
    "    X.append(train[i-window_size:i,:])\n",
    "    Y.append(train[i,0:1])\n",
    "    \n",
    "  return X,Y"
   ]
  },
  {
   "cell_type": "code",
   "execution_count": 12,
   "id": "9f761b43",
   "metadata": {},
   "outputs": [
    {
     "name": "stdout",
     "output_type": "stream",
     "text": [
      "Y (45263, 1)\n",
      "X (45263, 4, 6)\n"
     ]
    }
   ],
   "source": [
    "X, Y = to_supervised(scaled_dataset)\n",
    "X = np.array(X)\n",
    "Y = np.array(Y)\n",
    "print('Y' ,Y.shape)\n",
    "print('X' ,X.shape)"
   ]
  },
  {
   "cell_type": "code",
   "execution_count": 13,
   "id": "5a7c1f2e",
   "metadata": {},
   "outputs": [
    {
     "name": "stdout",
     "output_type": "stream",
     "text": [
      "X_train (42698, 4, 6)\n",
      "X_test (2565, 4, 6)\n",
      "Y_train (42698, 1)\n",
      "Y_test (2565, 1)\n"
     ]
    }
   ],
   "source": [
    "#Splitting the dataset 12829*0.2=2565 => - 10264\n",
    "#Splitting the dataset 12829*0.3=8981 => -8981\n",
    "n_train = 2565\n",
    "X_train, X_test = X[n_train:,] , X[:n_train,]\n",
    "print('X_train' ,X_train.shape)\n",
    "print('X_test' ,X_test.shape)\n",
    "\n",
    "Y_train, Y_test = Y[n_train:,] , Y[:n_train,]\n",
    "print('Y_train' ,Y_train.shape)\n",
    "print('Y_test' ,Y_test.shape)"
   ]
  },
  {
   "cell_type": "code",
   "execution_count": 14,
   "id": "89a477cb",
   "metadata": {},
   "outputs": [],
   "source": [
    "\n",
    "#Importing LSTM model\n",
    "from tensorflow import keras\n",
    "from tensorflow.keras import layers\n",
    "from keras.models import Sequential\n",
    "from keras.layers import Dense, Dropout,LSTM\n",
    "import tensorflow as tf\n",
    "model = Sequential()\n",
    "\n",
    "model.add(LSTM(units = 100, return_sequences = True, input_shape=(X_train.shape[1], X_train.shape[2])))\n",
    "model.add(Dropout(0.2))\n",
    "\n",
    "model.add(LSTM(units = 100, return_sequences = True))\n",
    "model.add(Dropout(0.2))\n",
    "\n",
    "model.add(LSTM(units = 100))\n",
    "model.add(Dropout(0.2))\n",
    "\n",
    "model.add(Dense(units = 1))\n",
    "\n",
    "#model.compile(optimizer = 'adam', loss = 'mean_squared_error')     \n",
    "opt = keras.optimizers.Adam(learning_rate=0.1)\n",
    "model.compile(loss='mean_squared_error', optimizer=opt)"
   ]
  },
  {
   "cell_type": "code",
   "execution_count": 15,
   "id": "5ce04a92",
   "metadata": {},
   "outputs": [
    {
     "name": "stdout",
     "output_type": "stream",
     "text": [
      "Epoch 1/50\n",
      "668/668 - 18s - loss: 0.0864 - val_loss: 0.0144 - 18s/epoch - 26ms/step\n",
      "Epoch 2/50\n",
      "668/668 - 11s - loss: 0.0164 - val_loss: 0.0658 - 11s/epoch - 17ms/step\n",
      "Epoch 3/50\n",
      "668/668 - 12s - loss: 0.0203 - val_loss: 0.0276 - 12s/epoch - 17ms/step\n",
      "Epoch 4/50\n",
      "668/668 - 10s - loss: 0.0194 - val_loss: 0.0191 - 10s/epoch - 16ms/step\n",
      "Epoch 5/50\n",
      "668/668 - 10s - loss: 0.0203 - val_loss: 0.0165 - 10s/epoch - 16ms/step\n",
      "Epoch 6/50\n",
      "668/668 - 10s - loss: 0.0213 - val_loss: 0.0263 - 10s/epoch - 16ms/step\n",
      "Epoch 7/50\n",
      "668/668 - 10s - loss: 0.0214 - val_loss: 0.0175 - 10s/epoch - 16ms/step\n",
      "Epoch 8/50\n",
      "668/668 - 10s - loss: 0.0211 - val_loss: 0.0189 - 10s/epoch - 16ms/step\n",
      "Epoch 9/50\n",
      "668/668 - 10s - loss: 0.0207 - val_loss: 0.0203 - 10s/epoch - 16ms/step\n",
      "Epoch 10/50\n",
      "668/668 - 10s - loss: 0.0201 - val_loss: 0.0146 - 10s/epoch - 16ms/step\n",
      "Epoch 11/50\n",
      "668/668 - 10s - loss: 0.0208 - val_loss: 0.0236 - 10s/epoch - 16ms/step\n",
      "Epoch 12/50\n",
      "668/668 - 10s - loss: 0.0200 - val_loss: 0.0215 - 10s/epoch - 16ms/step\n",
      "Epoch 13/50\n",
      "668/668 - 11s - loss: 0.0205 - val_loss: 0.0248 - 11s/epoch - 17ms/step\n",
      "Epoch 14/50\n",
      "668/668 - 11s - loss: 0.0212 - val_loss: 0.0238 - 11s/epoch - 16ms/step\n",
      "Epoch 15/50\n",
      "668/668 - 11s - loss: 0.0210 - val_loss: 0.0180 - 11s/epoch - 17ms/step\n",
      "Epoch 16/50\n",
      "668/668 - 12s - loss: 0.0201 - val_loss: 0.0200 - 12s/epoch - 17ms/step\n",
      "Epoch 17/50\n",
      "668/668 - 11s - loss: 0.0207 - val_loss: 0.0203 - 11s/epoch - 16ms/step\n",
      "Epoch 18/50\n",
      "668/668 - 11s - loss: 0.0202 - val_loss: 0.0198 - 11s/epoch - 16ms/step\n",
      "Epoch 19/50\n",
      "668/668 - 11s - loss: 0.0209 - val_loss: 0.0200 - 11s/epoch - 17ms/step\n",
      "Epoch 20/50\n",
      "668/668 - 12s - loss: 0.0214 - val_loss: 0.0236 - 12s/epoch - 17ms/step\n",
      "Epoch 21/50\n",
      "668/668 - 11s - loss: 0.0211 - val_loss: 0.0207 - 11s/epoch - 17ms/step\n",
      "Epoch 22/50\n",
      "668/668 - 11s - loss: 0.0209 - val_loss: 0.0165 - 11s/epoch - 17ms/step\n",
      "Epoch 23/50\n",
      "668/668 - 11s - loss: 0.0208 - val_loss: 0.0237 - 11s/epoch - 17ms/step\n",
      "Epoch 24/50\n",
      "668/668 - 11s - loss: 0.0211 - val_loss: 0.0211 - 11s/epoch - 16ms/step\n",
      "Epoch 25/50\n",
      "668/668 - 11s - loss: 0.0202 - val_loss: 0.0212 - 11s/epoch - 16ms/step\n",
      "Epoch 26/50\n",
      "668/668 - 12s - loss: 0.0206 - val_loss: 0.0182 - 12s/epoch - 18ms/step\n",
      "Epoch 27/50\n",
      "668/668 - 14s - loss: 0.0202 - val_loss: 0.0246 - 14s/epoch - 21ms/step\n",
      "Epoch 28/50\n",
      "668/668 - 16s - loss: 0.0214 - val_loss: 0.0188 - 16s/epoch - 24ms/step\n",
      "Epoch 29/50\n",
      "668/668 - 16s - loss: 0.0215 - val_loss: 0.0237 - 16s/epoch - 24ms/step\n",
      "Epoch 30/50\n",
      "668/668 - 13s - loss: 0.0203 - val_loss: 0.0180 - 13s/epoch - 19ms/step\n",
      "Epoch 31/50\n",
      "668/668 - 10s - loss: 0.0206 - val_loss: 0.0214 - 10s/epoch - 16ms/step\n",
      "Epoch 32/50\n",
      "668/668 - 10s - loss: 0.0217 - val_loss: 0.0203 - 10s/epoch - 16ms/step\n",
      "Epoch 33/50\n",
      "668/668 - 10s - loss: 0.0201 - val_loss: 0.0196 - 10s/epoch - 16ms/step\n",
      "Epoch 34/50\n",
      "668/668 - 10s - loss: 0.0214 - val_loss: 0.0197 - 10s/epoch - 16ms/step\n",
      "Epoch 35/50\n",
      "668/668 - 10s - loss: 0.0198 - val_loss: 0.0165 - 10s/epoch - 16ms/step\n",
      "Epoch 36/50\n",
      "668/668 - 10s - loss: 0.0218 - val_loss: 0.0195 - 10s/epoch - 16ms/step\n",
      "Epoch 37/50\n",
      "668/668 - 11s - loss: 0.0215 - val_loss: 0.0202 - 11s/epoch - 16ms/step\n",
      "Epoch 38/50\n",
      "668/668 - 10s - loss: 0.0210 - val_loss: 0.0217 - 10s/epoch - 16ms/step\n",
      "Epoch 39/50\n",
      "668/668 - 10s - loss: 0.0204 - val_loss: 0.0219 - 10s/epoch - 16ms/step\n",
      "Epoch 40/50\n",
      "668/668 - 11s - loss: 0.0206 - val_loss: 0.0223 - 11s/epoch - 16ms/step\n",
      "Epoch 41/50\n",
      "668/668 - 10s - loss: 0.0206 - val_loss: 0.0190 - 10s/epoch - 16ms/step\n",
      "Epoch 42/50\n",
      "668/668 - 10s - loss: 0.0189 - val_loss: 0.0183 - 10s/epoch - 16ms/step\n",
      "Epoch 43/50\n",
      "668/668 - 10s - loss: 0.0204 - val_loss: 0.0140 - 10s/epoch - 16ms/step\n",
      "Epoch 44/50\n",
      "668/668 - 10s - loss: 0.0205 - val_loss: 0.0186 - 10s/epoch - 16ms/step\n",
      "Epoch 45/50\n",
      "668/668 - 10s - loss: 0.0205 - val_loss: 0.0161 - 10s/epoch - 16ms/step\n",
      "Epoch 46/50\n",
      "668/668 - 10s - loss: 0.0196 - val_loss: 0.0150 - 10s/epoch - 16ms/step\n",
      "Epoch 47/50\n",
      "668/668 - 10s - loss: 0.0203 - val_loss: 0.0181 - 10s/epoch - 16ms/step\n",
      "Epoch 48/50\n",
      "668/668 - 10s - loss: 0.0195 - val_loss: 0.0202 - 10s/epoch - 16ms/step\n",
      "Epoch 49/50\n",
      "668/668 - 10s - loss: 0.0208 - val_loss: 0.0206 - 10s/epoch - 16ms/step\n",
      "Epoch 50/50\n",
      "668/668 - 10s - loss: 0.0206 - val_loss: 0.0196 - 10s/epoch - 16ms/step\n"
     ]
    }
   ],
   "source": [
    "history = model.fit(X_train, Y_train, epochs=50,\n",
    "                    batch_size=64, validation_data=(X_test,Y_test),\n",
    "                    verbose=2, shuffle=False)"
   ]
  },
  {
   "cell_type": "code",
   "execution_count": 16,
   "id": "ef1f7073",
   "metadata": {},
   "outputs": [
    {
     "name": "stdout",
     "output_type": "stream",
     "text": [
      "81/81 [==============================] - 2s 5ms/step\n",
      "0.019570470082303774\n",
      "0.13989449625451236\n"
     ]
    }
   ],
   "source": [
    "#Taking predictions\n",
    "Y_pred = model.predict(X_test)\n",
    "\n",
    "from sklearn.metrics import mean_squared_error\n",
    "mse = mean_squared_error(Y_test, Y_pred)\n",
    "\n",
    "print(mse)\n",
    "rmse = np.sqrt(mse)\n",
    "print(rmse)"
   ]
  },
  {
   "cell_type": "code",
   "execution_count": 17,
   "id": "6dc5f072",
   "metadata": {},
   "outputs": [
    {
     "name": "stdout",
     "output_type": "stream",
     "text": [
      "MAPE 42.81669381078526\n"
     ]
    }
   ],
   "source": [
    "def mean_absolute_percentage_error(y_true, y_pred): \n",
    "    y_true, y_pred = np.array(y_true), np.array(y_pred)\n",
    "    return np.mean(np.abs((y_true - y_pred) / y_true)) * 100\n",
    "\n",
    "mape = mean_absolute_percentage_error(Y_test, Y_pred)\n",
    "print('MAPE', mape)"
   ]
  },
  {
   "cell_type": "code",
   "execution_count": 18,
   "id": "77ea1dd9",
   "metadata": {},
   "outputs": [
    {
     "data": {
      "text/plain": [
       "-0.7715536177970186"
      ]
     },
     "execution_count": 18,
     "metadata": {},
     "output_type": "execute_result"
    }
   ],
   "source": [
    "from sklearn.metrics import r2_score\n",
    "r2 = r2_score(Y_test, Y_pred)\n",
    "r2"
   ]
  },
  {
   "cell_type": "code",
   "execution_count": 19,
   "id": "dbdb159b",
   "metadata": {},
   "outputs": [
    {
     "data": {
      "image/png": "[encoded data removed]",
      "text/plain": [
       "<Figure size 432x288 with 1 Axes>"
      ]
     },
     "metadata": {
      "needs_background": "light"
     },
     "output_type": "display_data"
    }
   ],
   "source": [
    "# plot history\n",
    "import matplotlib.pyplot as plt\n",
    "plt.plot(history.history['loss'], label='train_loss')\n",
    "plt.plot(history.history['val_loss'], label='Val_loss')\n",
    "plt.legend()\n",
    "plt.show()"
   ]
  },
  {
   "cell_type": "code",
   "execution_count": 20,
   "id": "9284cea5",
   "metadata": {},
   "outputs": [
    {
     "name": "stdout",
     "output_type": "stream",
     "text": [
      "ME\n",
      "-0.09232228272820034\n",
      "MAE\n",
      "0.09426716657688404\n",
      "MPE\n",
      "-0.3747211932316386\n",
      "RMSE\n",
      "0.13989449625451236\n"
     ]
    }
   ],
   "source": [
    "me = np.mean(Y_pred - Y_test)\n",
    "print('ME')\n",
    "print(me)\n",
    "mae = np.mean(np.abs(Y_pred - Y_test))    # MAE\n",
    "print('MAE')\n",
    "print(mae)\n",
    "mpe = np.mean((Y_pred - Y_test)/Y_test)   # MPE\n",
    "print('MPE')\n",
    "print(mpe)\n",
    "rmse = np.mean((Y_pred - Y_test)**2)**.5  # RMSE\n",
    "print('RMSE')\n",
    "print(rmse)\n",
    " "
   ]
  },
  {
   "cell_type": "code",
   "execution_count": null,
   "id": "b79d3901",
   "metadata": {},
   "outputs": [],
   "source": []
  },
  {
   "cell_type": "code",
   "execution_count": null,
   "id": "1bb64db0",
   "metadata": {},
   "outputs": [],
   "source": []
  }
 ],
 "metadata": {
  "kernelspec": {
   "display_name": "Python 3 (ipykernel)",
   "language": "python",
   "name": "python3"
  },
  "language_info": {
   "codemirror_mode": {
    "name": "ipython",
    "version": 3
   },
   "file_extension": ".py",
   "mimetype": "text/x-python",
   "name": "python",
   "nbconvert_exporter": "python",
   "pygments_lexer": "ipython3",
   "version": "3.9.12"
  }
 },
 "nbformat": 4,
 "nbformat_minor": 5
}
